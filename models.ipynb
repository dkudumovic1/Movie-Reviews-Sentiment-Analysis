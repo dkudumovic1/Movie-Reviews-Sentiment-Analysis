{
  "cells": [
    {
      "cell_type": "code",
      "execution_count": 2,
      "metadata": {
        "colab": {
          "base_uri": "https://localhost:8080/"
        },
        "id": "QYwuT0PCO-r2",
        "outputId": "84e10bee-6593-44f3-e94d-9368856f2e6b"
      },
      "outputs": [
        {
          "name": "stdout",
          "output_type": "stream",
          "text": [
            "Drive already mounted at /content/drive; to attempt to forcibly remount, call drive.mount(\"/content/drive\", force_remount=True).\n"
          ]
        }
      ],
      "source": [
        "from google.colab import drive\n",
        "drive.mount('/content/drive')\n",
        "\n",
        "import os\n",
        "os.chdir(\"/content/drive/My Drive/nlp\")"
      ]
    },
    {
      "cell_type": "markdown",
      "metadata": {
        "id": "cq6620aCO_qU"
      },
      "source": [
        "#Logistic regression"
      ]
    },
    {
      "cell_type": "code",
      "execution_count": 11,
      "metadata": {
        "colab": {
          "base_uri": "https://localhost:8080/"
        },
        "id": "gJ-3Tzy4QARU",
        "outputId": "a7bc2825-c582-4b74-abb7-34db4669480f"
      },
      "outputs": [
        {
          "name": "stdout",
          "output_type": "stream",
          "text": [
            "LogisticRegression(C=1, max_iter=500, random_state=123)\n",
            "              precision    recall  f1-score   support\n",
            "\n",
            "    Positive       0.91      0.88      0.89      3824\n",
            "    Negative       0.88      0.91      0.89      3676\n",
            "\n",
            "    accuracy                           0.89      7500\n",
            "   macro avg       0.89      0.89      0.89      7500\n",
            "weighted avg       0.89      0.89      0.89      7500\n",
            "\n",
            "[[3352  324]\n",
            " [ 471 3353]]\n"
          ]
        }
      ],
      "source": [
        "import pandas as pd\n",
        "from sklearn.linear_model import LogisticRegression\n",
        "from sklearn.metrics import classification_report, confusion_matrix\n",
        "from sklearn.feature_extraction.text import TfidfVectorizer\n",
        "\n",
        "\n",
        "x_train = pd.read_csv('x_train.csv', converters = {'review': str})\n",
        "x_train = x_train['review'].values\n",
        "x_test = pd.read_csv('x_test.csv', converters = {'review': str})\n",
        "x_test = x_test['review'].values\n",
        "y_train = pd.read_csv('y_train.csv').values.ravel()\n",
        "y_test = pd.read_csv('y_test.csv').values.ravel()\n",
        "\n",
        "tfidf = TfidfVectorizer(use_idf=True, min_df=0.0, max_df=1.0, ngram_range=(1,2), sublinear_tf=True)\n",
        "x_train = tfidf.fit_transform(x_train)\n",
        "x_test = tfidf.transform(x_test)\n",
        "\n",
        "lr = LogisticRegression(penalty='l2', max_iter=500, C=1, random_state=123)\n",
        "lr_fit = lr.fit(x_train, y_train)\n",
        "print(lr_fit)\n",
        "lr_predict = lr.predict(x_test)\n",
        "\n",
        "report = classification_report(y_test, lr_predict, target_names=['Positive', 'Negative'])\n",
        "print(report)\n",
        "cm = confusion_matrix(y_test, lr_predict, labels=[1,0])\n",
        "print(cm)"
      ]
    },
    {
      "cell_type": "code",
      "execution_count": 10,
      "metadata": {
        "colab": {
          "base_uri": "https://localhost:8080/"
        },
        "id": "bxheClsAQEyB",
        "outputId": "709ba58e-8314-448e-be80-3659b9d0aa23"
      },
      "outputs": [
        {
          "name": "stdout",
          "output_type": "stream",
          "text": [
            "LogisticRegression(C=1, max_iter=500, random_state=123)\n",
            "              precision    recall  f1-score   support\n",
            "\n",
            "    Positive       0.91      0.89      0.90      3824\n",
            "    Negative       0.89      0.91      0.90      3676\n",
            "\n",
            "    accuracy                           0.90      7500\n",
            "   macro avg       0.90      0.90      0.90      7500\n",
            "weighted avg       0.90      0.90      0.90      7500\n",
            "\n",
            "[[3357  319]\n",
            " [ 416 3408]]\n"
          ]
        }
      ],
      "source": [
        "import pandas as pd\n",
        "from sklearn.linear_model import LogisticRegression\n",
        "from sklearn.metrics import classification_report,confusion_matrix\n",
        "from sklearn.feature_extraction.text import CountVectorizer\n",
        "\n",
        "x_train = pd.read_csv('x_train.csv', converters = {'review': str})\n",
        "x_train = x_train['review'].values\n",
        "x_test = pd.read_csv('x_test.csv', converters = {'review': str})\n",
        "x_test = x_test['review'].values\n",
        "y_train = pd.read_csv('y_train.csv').values.ravel()\n",
        "y_test = pd.read_csv('y_test.csv').values.ravel()\n",
        "\n",
        "cv = CountVectorizer(binary=False, min_df=0.0, max_df=1.0, ngram_range=(1,2))\n",
        "x_train = cv.fit_transform(x_train)\n",
        "x_test = cv.transform(x_test)\n",
        "\n",
        "lr = LogisticRegression(penalty='l2', max_iter=500, C=1, random_state=123)\n",
        "lr_fit = lr.fit(x_train, y_train)\n",
        "print(lr_fit)\n",
        "lr_predict = lr.predict(x_test)\n",
        "\n",
        "report = classification_report(y_test, lr_predict, target_names=['Positive', 'Negative'])\n",
        "print(report)\n",
        "cm = confusion_matrix(y_test, lr_predict, labels=[1,0])\n",
        "print(cm)"
      ]
    },
    {
      "cell_type": "markdown",
      "metadata": {
        "id": "nAKaLlw_UXjn"
      },
      "source": [
        "#SVM"
      ]
    },
    {
      "cell_type": "code",
      "execution_count": 3,
      "metadata": {
        "colab": {
          "base_uri": "https://localhost:8080/"
        },
        "id": "g5qPAXDZXhY6",
        "outputId": "eddf9961-046c-4de6-95c1-2fffc1e00c13"
      },
      "outputs": [
        {
          "name": "stdout",
          "output_type": "stream",
          "text": [
            "              precision    recall  f1-score   support\n",
            "\n",
            "    Positive       0.91      0.87      0.89      3824\n",
            "    Negative       0.87      0.92      0.89      3676\n",
            "\n",
            "    accuracy                           0.89      7500\n",
            "   macro avg       0.89      0.89      0.89      7500\n",
            "weighted avg       0.89      0.89      0.89      7500\n",
            "\n",
            "[[3367  309]\n",
            " [ 498 3326]]\n"
          ]
        }
      ],
      "source": [
        "from sklearn.svm import SVC\n",
        "from sklearn.linear_model import SGDClassifier\n",
        "import pandas as pd\n",
        "from sklearn.metrics import classification_report, confusion_matrix\n",
        "from sklearn.feature_extraction.text import TfidfVectorizer\n",
        "\n",
        "\n",
        "x_train = pd.read_csv('x_train.csv', converters = {'review': str})\n",
        "x_train = x_train['review'].values\n",
        "x_test = pd.read_csv('x_test.csv', converters = {'review': str})\n",
        "x_test = x_test['review'].values\n",
        "y_train = pd.read_csv('y_train.csv').values.ravel()\n",
        "y_test = pd.read_csv('y_test.csv').values.ravel()\n",
        "\n",
        "tfidf = TfidfVectorizer(use_idf=True, min_df=0.0, max_df=1.0, ngram_range=(1,2), sublinear_tf=True)\n",
        "x_train = tfidf.fit_transform(x_train)\n",
        "x_test = tfidf.transform(x_test)\n",
        "\n",
        "svm = SGDClassifier(loss='hinge', max_iter=500, random_state=123)\n",
        "svm = svm.fit(x_train, y_train)\n",
        "svm_predict = svm.predict(x_test)\n",
        "\n",
        "report = classification_report(y_test, svm_predict, target_names=['Positive', 'Negative'])\n",
        "print(report)\n",
        "cm = confusion_matrix(y_test, svm_predict, labels=[1,0])\n",
        "print(cm)"
      ]
    },
    {
      "cell_type": "code",
      "execution_count": 4,
      "metadata": {
        "colab": {
          "base_uri": "https://localhost:8080/"
        },
        "id": "La59TWb0ZPQI",
        "outputId": "83fc278a-3954-4c79-ddf7-d6c4b62b4054"
      },
      "outputs": [
        {
          "name": "stdout",
          "output_type": "stream",
          "text": [
            "              precision    recall  f1-score   support\n",
            "\n",
            "    Positive       0.91      0.90      0.90      3824\n",
            "    Negative       0.89      0.91      0.90      3676\n",
            "\n",
            "    accuracy                           0.90      7500\n",
            "   macro avg       0.90      0.90      0.90      7500\n",
            "weighted avg       0.90      0.90      0.90      7500\n",
            "\n",
            "[[3331  345]\n",
            " [ 400 3424]]\n"
          ]
        }
      ],
      "source": [
        "from sklearn.svm import SVC\n",
        "from sklearn.linear_model import SGDClassifier\n",
        "import pandas as pd\n",
        "from sklearn.metrics import classification_report, confusion_matrix\n",
        "from sklearn.feature_extraction.text import CountVectorizer\n",
        "\n",
        "x_train = pd.read_csv('x_train.csv', converters = {'review': str})\n",
        "x_train = x_train['review'].values\n",
        "x_test = pd.read_csv('x_test.csv', converters = {'review': str})\n",
        "x_test = x_test['review'].values\n",
        "y_train = pd.read_csv('y_train.csv').values.ravel()\n",
        "y_test = pd.read_csv('y_test.csv').values.ravel()\n",
        "\n",
        "cv = CountVectorizer(binary=False, min_df=0.0, max_df=1.0, ngram_range=(1,2))\n",
        "x_train = cv.fit_transform(x_train)\n",
        "x_test = cv.transform(x_test)\n",
        "\n",
        "svm = SGDClassifier(loss='hinge', max_iter=500, random_state=123)\n",
        "svm = svm.fit(x_train, y_train)\n",
        "svm_predict = svm.predict(x_test)\n",
        "\n",
        "report = classification_report(y_test, svm_predict, target_names=['Positive', 'Negative'])\n",
        "print(report)\n",
        "cm = confusion_matrix(y_test, svm_predict, labels=[1,0])\n",
        "print(cm)"
      ]
    },
    {
      "cell_type": "code",
      "execution_count": 19,
      "metadata": {
        "colab": {
          "base_uri": "https://localhost:8080/"
        },
        "id": "VIkQp1PfbNKu",
        "outputId": "b8ce1bbd-5f35-4b82-8991-888379ff8ae4"
      },
      "outputs": [
        {
          "name": "stdout",
          "output_type": "stream",
          "text": [
            "              precision    recall  f1-score   support\n",
            "\n",
            "    Positive       0.93      0.90      0.91      3824\n",
            "    Negative       0.90      0.93      0.91      3676\n",
            "\n",
            "    accuracy                           0.91      7500\n",
            "   macro avg       0.91      0.91      0.91      7500\n",
            "weighted avg       0.91      0.91      0.91      7500\n",
            "\n",
            "[[3420  256]\n",
            " [ 399 3425]]\n"
          ]
        }
      ],
      "source": [
        "from sklearn import svm\n",
        "import pandas as pd\n",
        "from sklearn.metrics import classification_report, confusion_matrix\n",
        "from sklearn.feature_extraction.text import TfidfVectorizer\n",
        "\n",
        "\n",
        "x_train = pd.read_csv('x_train.csv', converters = {'review': str})\n",
        "x_train = x_train['review'].values\n",
        "x_test = pd.read_csv('x_test.csv', converters = {'review': str})\n",
        "x_test = x_test['review'].values\n",
        "y_train = pd.read_csv('y_train.csv').values.ravel()\n",
        "y_test = pd.read_csv('y_test.csv').values.ravel()\n",
        "\n",
        "tfidf = TfidfVectorizer(use_idf=True, min_df=0.0, max_df=1.0, ngram_range=(1,2), sublinear_tf=True)\n",
        "x_train = tfidf.fit_transform(x_train)\n",
        "x_test = tfidf.transform(x_test)\n",
        "\n",
        "svm = svm.LinearSVC()\n",
        "svm_predict = svm.fit(x_train, y_train).predict(x_test)\n",
        "\n",
        "report = classification_report(y_test, svm_predict, target_names=['Positive', 'Negative'])\n",
        "print(report)\n",
        "cm = confusion_matrix(y_test, svm_predict, labels=[1,0])\n",
        "print(cm)"
      ]
    },
    {
      "cell_type": "markdown",
      "metadata": {},
      "source": [
        "##MLP classifier"
      ]
    },
    {
      "cell_type": "code",
      "execution_count": 5,
      "metadata": {},
      "outputs": [
        {
          "name": "stdout",
          "output_type": "stream",
          "text": [
            "MLPClassifier accuracy:  0.8452\n",
            "\n",
            "Confusion matrix: \n",
            "\n",
            "[[3240  577]\n",
            " [ 584 3099]]\n"
          ]
        }
      ],
      "source": [
        "from sklearn.neural_network import MLPClassifier\n",
        "from sklearn.metrics import confusion_matrix\n",
        "import pandas as pd\n",
        "import spacy\n",
        "\n",
        "nlp_lg = spacy.load('en_core_web_lg')\n",
        "\n",
        "x_train = pd.read_csv('x_train.csv', converters = {'review': str})\n",
        "x_train = x_train['review'].values\n",
        "x_test = pd.read_csv('x_test.csv', converters = {'review': str})\n",
        "x_test = x_test['review'].values\n",
        "y_train = pd.read_csv('y_train.csv').values.ravel()\n",
        "y_test = pd.read_csv('y_test.csv').values.ravel()\n",
        "\n",
        "#converting the data to a vector representation\n",
        "def convert_data(corpus):\n",
        "    new_corpus = []\n",
        "    for document in corpus:\n",
        "        doc = nlp_lg(document)\n",
        "        new_corpus.append(doc.vector)\n",
        "    return(new_corpus)\n",
        "\n",
        "\n",
        "x_train = convert_data(x_train)\n",
        "x_test = convert_data(x_test)\n",
        "\n",
        "#MLP classifier \n",
        "classifier = MLPClassifier(hidden_layer_sizes=(300,150,50), max_iter=300, activation = 'relu',solver='adam',random_state=1)\n",
        "classifier.fit(x_train, y_train)\n",
        "y_pred = classifier.predict(x_test)\n",
        "\n",
        "#creating the confusion matrix\n",
        "cm = confusion_matrix(y_pred, y_test)\n",
        "diagonal_sum = cm.trace()\n",
        "sum_of_all_elements = cm.sum()\n",
        "accuracy = diagonal_sum / sum_of_all_elements\n",
        "\n",
        "#printing the results of MLP\n",
        "print(\"MLPClassifier accuracy: \", accuracy)\n",
        "print(\"\\nConfusion matrix: \\n\")\n",
        "print(cm)"
      ]
    },
    {
      "cell_type": "code",
      "execution_count": 7,
      "metadata": {},
      "outputs": [
        {
          "name": "stdout",
          "output_type": "stream",
          "text": [
            "              precision    recall  f1-score   support\n",
            "\n",
            "    Positive       0.85      0.85      0.85      3824\n",
            "    Negative       0.84      0.84      0.84      3676\n",
            "\n",
            "    accuracy                           0.85      7500\n",
            "   macro avg       0.85      0.85      0.85      7500\n",
            "weighted avg       0.85      0.85      0.85      7500\n",
            "\n",
            "[[3099  577]\n",
            " [ 584 3240]]\n"
          ]
        }
      ],
      "source": [
        "from sklearn.metrics import classification_report\n",
        "\n",
        "report = classification_report(y_test, y_pred, target_names=['Positive', 'Negative'])\n",
        "print(report)\n",
        "cm = confusion_matrix(y_test, y_pred, labels=[1,0])\n",
        "print(cm)"
      ]
    }
  ],
  "metadata": {
    "colab": {
      "name": "nlp.ipynb",
      "provenance": []
    },
    "kernelspec": {
      "display_name": "Python 3.9.0 64-bit",
      "language": "python",
      "name": "python3"
    },
    "language_info": {
      "codemirror_mode": {
        "name": "ipython",
        "version": 3
      },
      "file_extension": ".py",
      "mimetype": "text/x-python",
      "name": "python",
      "nbconvert_exporter": "python",
      "pygments_lexer": "ipython3",
      "version": "3.9.0"
    },
    "vscode": {
      "interpreter": {
        "hash": "46289f3f92f675f6c09686056f73d270c3b72d1eca518fe634a57cad5b09cc16"
      }
    }
  },
  "nbformat": 4,
  "nbformat_minor": 0
}
