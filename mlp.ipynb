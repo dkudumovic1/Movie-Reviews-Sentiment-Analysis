{
 "cells": [
  {
   "cell_type": "markdown",
   "metadata": {},
   "source": [
    "##MLP classifier"
   ]
  },
  {
   "cell_type": "code",
   "execution_count": 9,
   "metadata": {},
   "outputs": [
    {
     "ename": "ImportError",
     "evalue": "cannot import name 'feature_extraction' from 'utils' (c:\\Users\\Korisnik\\AppData\\Local\\Programs\\Python\\Python39\\lib\\site-packages\\utils\\__init__.py)",
     "output_type": "error",
     "traceback": [
      "\u001b[1;31m---------------------------------------------------------------------------\u001b[0m",
      "\u001b[1;31mImportError\u001b[0m                               Traceback (most recent call last)",
      "\u001b[1;32m<ipython-input-9-64cfd54f3a5f>\u001b[0m in \u001b[0;36m<module>\u001b[1;34m\u001b[0m\n\u001b[0;32m     12\u001b[0m \u001b[1;32mimport\u001b[0m \u001b[0mpandas\u001b[0m \u001b[1;32mas\u001b[0m \u001b[0mpd\u001b[0m\u001b[1;33m\u001b[0m\u001b[1;33m\u001b[0m\u001b[0m\n\u001b[0;32m     13\u001b[0m \u001b[1;32mimport\u001b[0m \u001b[0mspacy\u001b[0m\u001b[1;33m\u001b[0m\u001b[1;33m\u001b[0m\u001b[0m\n\u001b[1;32m---> 14\u001b[1;33m \u001b[1;32mfrom\u001b[0m \u001b[0mutils\u001b[0m \u001b[1;32mimport\u001b[0m \u001b[0mfeature_extraction\u001b[0m\u001b[1;33m\u001b[0m\u001b[1;33m\u001b[0m\u001b[0m\n\u001b[0m",
      "\u001b[1;31mImportError\u001b[0m: cannot import name 'feature_extraction' from 'utils' (c:\\Users\\Korisnik\\AppData\\Local\\Programs\\Python\\Python39\\lib\\site-packages\\utils\\__init__.py)"
     ]
    }
   ],
   "source": [
    "import pickle\n",
    "import pandas as pd\n",
    "from sklearn.linear_model import LogisticRegression\n",
    "from sklearn.metrics import classification_report, confusion_matrix\n",
    "from sklearn.feature_extraction.text import TfidfVectorizer, CountVectorizer\n",
    "from sklearn.svm import SVC\n",
    "from sklearn import svm\n",
    "from sklearn.linear_model import SGDClassifier\n",
    "import utils\n",
    "from sklearn.neural_network import MLPClassifier\n",
    "from sklearn.metrics import confusion_matrix\n",
    "import pandas as pd\n",
    "import spacy\n",
    "from utils import feature_extraction"
   ]
  },
  {
   "cell_type": "code",
   "execution_count": 12,
   "metadata": {},
   "outputs": [
    {
     "name": "stdout",
     "output_type": "stream",
     "text": [
      "MLPClassifier accuracy:  0.8458666666666667\n",
      "\n",
      "Confusion matrix: \n",
      "\n",
      "[[3097  493]\n",
      " [ 663 3247]]\n"
     ]
    }
   ],
   "source": [
    "from sklearn.neural_network import MLPClassifier\n",
    "from sklearn.metrics import confusion_matrix\n",
    "import pandas as pd\n",
    "import spacy\n",
    "\n",
    "nlp_lg = spacy.load('en_core_web_lg')\n",
    "\n",
    "x_train = pd.read_csv('data/x_train_without_preprocessing.csv', converters = {'review': str})\n",
    "x_train = x_train['review'].values\n",
    "x_test = pd.read_csv('data/x_test_without_preprocessing.csv', converters = {'review': str})\n",
    "x_test = x_test['review'].values\n",
    "y_train = pd.read_csv('data/y_train_without_preprocessing.csv').values.ravel()\n",
    "y_test = pd.read_csv('data/y_test_without_preprocessing.csv').values.ravel()\n",
    "\n",
    "#converting the data to a vector representation\n",
    "def convert_data(corpus):\n",
    "    new_corpus = []\n",
    "    for document in corpus:\n",
    "        doc = nlp_lg(document)\n",
    "        new_corpus.append(doc.vector)\n",
    "    return(new_corpus)\n",
    "\n",
    "\n",
    "x_train = convert_data(x_train)\n",
    "x_test = convert_data(x_test)\n",
    "\n",
    "#MLP classifier \n",
    "classifier = MLPClassifier(hidden_layer_sizes=(300,150,50), max_iter=300, activation = 'relu',solver='adam',random_state=1)\n",
    "classifier.fit(x_train, y_train)\n",
    "y_pred = classifier.predict(x_test)\n",
    "\n",
    "pickle.dump(classifier, open('MLP.sav', 'wb'))\n",
    "\n",
    "#creating the confusion matrix\n",
    "cm = confusion_matrix(y_pred, y_test)\n",
    "diagonal_sum = cm.trace()\n",
    "sum_of_all_elements = cm.sum()\n",
    "accuracy = diagonal_sum / sum_of_all_elements\n",
    "\n",
    "#printing the results of MLP\n",
    "print(\"MLPClassifier accuracy: \", accuracy)\n",
    "print(\"\\nConfusion matrix: \\n\")\n",
    "print(cm)"
   ]
  },
  {
   "cell_type": "code",
   "execution_count": 13,
   "metadata": {},
   "outputs": [
    {
     "name": "stdout",
     "output_type": "stream",
     "text": [
      "              precision    recall  f1-score   support\n",
      "\n",
      "    Positive       0.86      0.82      0.84      3760\n",
      "    Negative       0.83      0.87      0.85      3740\n",
      "\n",
      "    accuracy                           0.85      7500\n",
      "   macro avg       0.85      0.85      0.85      7500\n",
      "weighted avg       0.85      0.85      0.85      7500\n",
      "\n",
      "[[3247  493]\n",
      " [ 663 3097]]\n"
     ]
    }
   ],
   "source": [
    "from sklearn.metrics import classification_report\n",
    "\n",
    "report = classification_report(y_test, y_pred, target_names=['Positive', 'Negative'])\n",
    "print(report)\n",
    "cm = confusion_matrix(y_test, y_pred, labels=[1,0])\n",
    "print(cm)"
   ]
  },
  {
   "cell_type": "code",
   "execution_count": 14,
   "metadata": {},
   "outputs": [
    {
     "name": "stdout",
     "output_type": "stream",
     "text": [
      "MLPClassifier accuracy:  0.8452\n",
      "\n",
      "Confusion matrix: \n",
      "\n",
      "[[3240  577]\n",
      " [ 584 3099]]\n"
     ]
    }
   ],
   "source": [
    "from sklearn.neural_network import MLPClassifier\n",
    "from sklearn.metrics import confusion_matrix\n",
    "import pandas as pd\n",
    "import spacy\n",
    "\n",
    "nlp_lg = spacy.load('en_core_web_lg')\n",
    "\n",
    "x_train = pd.read_csv('data/x_train_full_preprocessing.csv', converters = {'review': str})\n",
    "x_train = x_train['review'].values\n",
    "x_test = pd.read_csv('data/x_test_full_preprocessing.csv', converters = {'review': str})\n",
    "x_test = x_test['review'].values\n",
    "y_train = pd.read_csv('data/y_train_full_preprocessing.csv').values.ravel()\n",
    "y_test = pd.read_csv('data/y_test_full_preprocessing.csv').values.ravel()\n",
    "\n",
    "#converting the data to a vector representation\n",
    "def convert_data(corpus):\n",
    "    new_corpus = []\n",
    "    for document in corpus:\n",
    "        doc = nlp_lg(document)\n",
    "        new_corpus.append(doc.vector)\n",
    "    return(new_corpus)\n",
    "\n",
    "\n",
    "x_train = convert_data(x_train)\n",
    "x_test = convert_data(x_test)\n",
    "\n",
    "#MLP classifier \n",
    "classifier = MLPClassifier(hidden_layer_sizes=(300,150,50), max_iter=300, activation = 'relu',solver='adam',random_state=1)\n",
    "classifier.fit(x_train, y_train)\n",
    "y_pred = classifier.predict(x_test)\n",
    "\n",
    "pickle.dump(classifier, open('MLP_preprocessed.sav', 'wb'))\n",
    "\n",
    "#creating the confusion matrix\n",
    "cm = confusion_matrix(y_pred, y_test)\n",
    "diagonal_sum = cm.trace()\n",
    "sum_of_all_elements = cm.sum()\n",
    "accuracy = diagonal_sum / sum_of_all_elements\n",
    "\n",
    "#printing the results of MLP\n",
    "print(\"MLPClassifier accuracy: \", accuracy)\n",
    "print(\"\\nConfusion matrix: \\n\")\n",
    "print(cm)"
   ]
  },
  {
   "cell_type": "code",
   "execution_count": 15,
   "metadata": {},
   "outputs": [
    {
     "name": "stdout",
     "output_type": "stream",
     "text": [
      "              precision    recall  f1-score   support\n",
      "\n",
      "    Positive       0.85      0.85      0.85      3824\n",
      "    Negative       0.84      0.84      0.84      3676\n",
      "\n",
      "    accuracy                           0.85      7500\n",
      "   macro avg       0.85      0.85      0.85      7500\n",
      "weighted avg       0.85      0.85      0.85      7500\n",
      "\n",
      "[[3099  577]\n",
      " [ 584 3240]]\n"
     ]
    }
   ],
   "source": [
    "from sklearn.metrics import classification_report\n",
    "\n",
    "report = classification_report(y_test, y_pred, target_names=['Positive', 'Negative'])\n",
    "print(report)\n",
    "cm = confusion_matrix(y_test, y_pred, labels=[1,0])\n",
    "print(cm)"
   ]
  }
 ],
 "metadata": {
  "kernelspec": {
   "display_name": "Python 3.9.0 64-bit",
   "language": "python",
   "name": "python3"
  },
  "language_info": {
   "codemirror_mode": {
    "name": "ipython",
    "version": 3
   },
   "file_extension": ".py",
   "mimetype": "text/x-python",
   "name": "python",
   "nbconvert_exporter": "python",
   "pygments_lexer": "ipython3",
   "version": "3.9.0"
  },
  "orig_nbformat": 4,
  "vscode": {
   "interpreter": {
    "hash": "46289f3f92f675f6c09686056f73d270c3b72d1eca518fe634a57cad5b09cc16"
   }
  }
 },
 "nbformat": 4,
 "nbformat_minor": 2
}
