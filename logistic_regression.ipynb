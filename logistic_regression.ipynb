{
  "nbformat": 4,
  "nbformat_minor": 0,
  "metadata": {
    "colab": {
      "name": "nlp.ipynb",
      "provenance": []
    },
    "kernelspec": {
      "name": "python3",
      "display_name": "Python 3"
    },
    "language_info": {
      "name": "python"
    }
  },
  "cells": [
    {
      "cell_type": "code",
      "source": [
        "from google.colab import drive\n",
        "drive.mount('/content/drive')\n",
        "\n",
        "import os\n",
        "os.chdir(\"/content/drive/My Drive/nlp\")"
      ],
      "metadata": {
        "colab": {
          "base_uri": "https://localhost:8080/"
        },
        "id": "QYwuT0PCO-r2",
        "outputId": "d1f747e4-c973-4e75-e3f5-4690f3e6bcc5"
      },
      "execution_count": 1,
      "outputs": [
        {
          "output_type": "stream",
          "name": "stdout",
          "text": [
            "Mounted at /content/drive\n"
          ]
        }
      ]
    },
    {
      "cell_type": "markdown",
      "source": [
        "#Logistic regression"
      ],
      "metadata": {
        "id": "cq6620aCO_qU"
      }
    },
    {
      "cell_type": "code",
      "source": [
        "import pandas as pd\n",
        "from sklearn.linear_model import LogisticRegression\n",
        "from sklearn.metrics import classification_report,confusion_matrix\n",
        "from sklearn.feature_extraction.text import TfidfVectorizer\n",
        "\n",
        "\n",
        "x_train = pd.read_csv('x_train.csv', converters = {'review': str})\n",
        "x_train = x_train['review'].values\n",
        "x_test = pd.read_csv('x_test.csv', converters = {'review': str})\n",
        "x_test = x_test['review'].values\n",
        "y_train = pd.read_csv('y_train.csv').values.ravel()\n",
        "y_test = pd.read_csv('y_test.csv').values.ravel()\n",
        "\n",
        "tfidf = TfidfVectorizer(use_idf=True, min_df=0.0, max_df=1.0, ngram_range=(1,2), sublinear_tf=True)\n",
        "x_train = tfidf.fit_transform(x_train)\n",
        "x_test = tfidf.transform(x_test)\n",
        "\n",
        "lr = LogisticRegression(penalty='l2', max_iter=500, C=1, random_state=123)\n",
        "lr_fit = lr.fit(x_train, y_train)\n",
        "print(lr_fit)\n",
        "lr_predict = lr.predict(x_test)\n",
        "\n",
        "report = classification_report(y_test, lr_predict, target_names=['Positive', 'Negative'])\n",
        "print(report)\n",
        "cm = confusion_matrix(y_test, lr_predict, labels=[1,0])\n",
        "print(cm)"
      ],
      "metadata": {
        "colab": {
          "base_uri": "https://localhost:8080/"
        },
        "id": "gJ-3Tzy4QARU",
        "outputId": "a7bc2825-c582-4b74-abb7-34db4669480f"
      },
      "execution_count": 11,
      "outputs": [
        {
          "output_type": "stream",
          "name": "stdout",
          "text": [
            "LogisticRegression(C=1, max_iter=500, random_state=123)\n",
            "              precision    recall  f1-score   support\n",
            "\n",
            "    Positive       0.91      0.88      0.89      3824\n",
            "    Negative       0.88      0.91      0.89      3676\n",
            "\n",
            "    accuracy                           0.89      7500\n",
            "   macro avg       0.89      0.89      0.89      7500\n",
            "weighted avg       0.89      0.89      0.89      7500\n",
            "\n",
            "[[3352  324]\n",
            " [ 471 3353]]\n"
          ]
        }
      ]
    },
    {
      "cell_type": "code",
      "source": [
        "import pandas as pd\n",
        "from sklearn.linear_model import LogisticRegression\n",
        "from sklearn.metrics import classification_report,confusion_matrix\n",
        "from sklearn.feature_extraction.text import CountVectorizer\n",
        "\n",
        "x_train = pd.read_csv('x_train.csv', converters = {'review': str})\n",
        "x_train = x_train['review'].values\n",
        "x_test = pd.read_csv('x_test.csv', converters = {'review': str})\n",
        "x_test = x_test['review'].values\n",
        "y_train = pd.read_csv('y_train.csv').values.ravel()\n",
        "y_test = pd.read_csv('y_test.csv').values.ravel()\n",
        "\n",
        "cv = CountVectorizer(binary=False, min_df=0.0, max_df=1.0, ngram_range=(1,2))\n",
        "x_train = cv.fit_transform(x_train)\n",
        "x_test = cv.transform(x_test)\n",
        "\n",
        "lr = LogisticRegression(penalty='l2', max_iter=500, C=1, random_state=123)\n",
        "lr_fit = lr.fit(x_train, y_train)\n",
        "print(lr_fit)\n",
        "lr_predict = lr.predict(x_test)\n",
        "\n",
        "report = classification_report(y_test, lr_predict, target_names=['Positive', 'Negative'])\n",
        "print(report)\n",
        "cm = confusion_matrix(y_test, lr_predict, labels=[1,0])\n",
        "print(cm)"
      ],
      "metadata": {
        "colab": {
          "base_uri": "https://localhost:8080/"
        },
        "id": "bxheClsAQEyB",
        "outputId": "709ba58e-8314-448e-be80-3659b9d0aa23"
      },
      "execution_count": 10,
      "outputs": [
        {
          "output_type": "stream",
          "name": "stdout",
          "text": [
            "LogisticRegression(C=1, max_iter=500, random_state=123)\n",
            "              precision    recall  f1-score   support\n",
            "\n",
            "    Positive       0.91      0.89      0.90      3824\n",
            "    Negative       0.89      0.91      0.90      3676\n",
            "\n",
            "    accuracy                           0.90      7500\n",
            "   macro avg       0.90      0.90      0.90      7500\n",
            "weighted avg       0.90      0.90      0.90      7500\n",
            "\n",
            "[[3357  319]\n",
            " [ 416 3408]]\n"
          ]
        }
      ]
    }
  ]
}